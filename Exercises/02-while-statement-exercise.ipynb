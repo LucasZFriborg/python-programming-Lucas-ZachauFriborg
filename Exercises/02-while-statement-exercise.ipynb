{
 "cells": [
  {
   "cell_type": "markdown",
   "metadata": {},
   "source": [
    "<a href=\"https://colab.research.google.com/github/pr0fez/AI24-Programmering/blob/master/Exercises/02-while-statement-exercise.ipynb\" target=\"_parent\"><img align=\"left\" src=\"https://colab.research.google.com/assets/colab-badge.svg\" alt=\"Open In Colab\"/></a> &nbsp; to see hints and answers."
   ]
  },
  {
   "cell_type": "markdown",
   "metadata": {},
   "source": [
    "# while statement exercises\n",
    "\n",
    "---\n",
    "These are introductory exercises in Python with focus in **while** statement.\n",
    "\n",
    "<p class = \"alert alert-info\" role=\"alert\"><b>Remember</b> to use <b>descriptive variable names</b> in order to get readable code </p>\n",
    "\n",
    "<p class = \"alert alert-info\" role=\"alert\"><b>Remember</b> to format your answers in a neat way using <b>f-strings</b>\n",
    "\n",
    "<p class = \"alert alert-info\" role=\"alert\"><b>Remember</b> to format your input questions in a pedagogical way to guide the user\n",
    "\n",
    "The number of stars (\\*), (\\*\\*), (\\*\\*\\*) denotes the difficulty level of the task\n",
    "\n",
    "---"
   ]
  },
  {
   "cell_type": "markdown",
   "metadata": {},
   "source": [
    "## 1. Count numbers (*)\n",
    "\n",
    "Use a **while** statement to count from -10 to 10 with one increment. \n",
    "\n",
    "<details>\n",
    "\n",
    "<summary>Hint </summary>\n",
    "\n",
    "```python\n",
    "\n",
    "i += 1 # adds one and assigns it to i, equivalent to i = i + 1\n",
    "```\n",
    "\n",
    "</details>\n",
    "<br>\n",
    "<details>\n",
    "\n",
    "<summary>Answer </summary>\n",
    "\n",
    "```\n",
    "\n",
    "-10 -9 -8 -7 -6 -5 -4 -3 -2 -1 0 1 2 3 4 5 6 7 8 9 10\n",
    "```\n",
    "\n",
    "</details>\n"
   ]
  },
  {
   "cell_type": "code",
   "execution_count": 2,
   "metadata": {},
   "outputs": [
    {
     "name": "stdout",
     "output_type": "stream",
     "text": [
      "-10\n",
      "-9\n",
      "-8\n",
      "-7\n",
      "-6\n",
      "-5\n",
      "-4\n",
      "-3\n",
      "-2\n",
      "-1\n",
      "0\n",
      "1\n",
      "2\n",
      "3\n",
      "4\n",
      "5\n",
      "6\n",
      "7\n",
      "8\n",
      "9\n",
      "10\n"
     ]
    }
   ],
   "source": [
    "counter = -10\n",
    "\n",
    "while counter < 11:\n",
    "    print(counter)\n",
    "    counter += 1"
   ]
  },
  {
   "cell_type": "markdown",
   "metadata": {},
   "source": [
    "--- \n",
    "## 2. Arithmetic sum (*)\n",
    "Use a **while** statement to compute the following sums: \n",
    "\n",
    "&nbsp; a) &nbsp; $\\text{sum} = 1 + 2 + \\ldots + 99+ 100$\n",
    "\n",
    "&nbsp; b) &nbsp; $\\text{sum} = 1 + 3 + 5 + \\ldots + 97 + 99$\n",
    "\n",
    "<details>\n",
    "\n",
    "<summary>Answer </summary>\n",
    "\n",
    "```\n",
    "a) 1 + 2 + ... + 99 + 100 = 5050 \n",
    "\n",
    "b) 1 + 3 + 5 +...+ 97 + 99 = 2500\n",
    "```\n",
    "\n",
    "</details>"
   ]
  },
  {
   "cell_type": "code",
   "execution_count": 31,
   "metadata": {},
   "outputs": [
    {
     "name": "stdout",
     "output_type": "stream",
     "text": [
      "1 + 2 + ... + 99 + 100 = 5050\n"
     ]
    }
   ],
   "source": [
    "# a)\n",
    "a = sum(range(1, 101, 1))\n",
    "print(f'1 + 2 + ... + 99 + 100 = {a}')"
   ]
  },
  {
   "cell_type": "code",
   "execution_count": 32,
   "metadata": {},
   "outputs": [
    {
     "name": "stdout",
     "output_type": "stream",
     "text": [
      "1 + 3 + ... + 97 + 99 = 2500\n"
     ]
    }
   ],
   "source": [
    "# b)\n",
    "b = sum(range(1, 100, 2))\n",
    "print(f'1 + 3 + ... + 97 + 99 = {b}')"
   ]
  },
  {
   "cell_type": "markdown",
   "metadata": {},
   "source": [
    "--- \n",
    "## 3. Guess number game (*)\n",
    "&nbsp; a) &nbsp; Create a guessing number game following this flow chart: \n",
    "\n",
    "<img align=\"left\" src=\"../assets/guessing_game.png\" width=\"300\"/>"
   ]
  },
  {
   "cell_type": "code",
   "execution_count": 3,
   "metadata": {},
   "outputs": [
    {
     "name": "stdout",
     "output_type": "stream",
     "text": [
      "Too high!\n",
      "Too high!\n",
      "Too high!\n",
      "Too high!\n",
      "Too high!\n",
      "Too high!\n",
      "Too high!\n",
      "Too high!\n",
      "Too high!\n",
      "Too high!\n",
      "Too high!\n",
      "Too high!\n",
      "Too low!\n",
      "Too low!\n",
      "Too low!\n",
      "Too low!\n",
      "Too low!\n",
      "Too low!\n",
      "You got it! 8 was the number!\n",
      "Game over!\n"
     ]
    }
   ],
   "source": [
    "import random\n",
    "\n",
    "random_integer = random.randint(1, 100)\n",
    "guess = None\n",
    "\n",
    "while guess != random_integer:\n",
    "    guess = int(input('Enter a number between 1 and 100: '))\n",
    "    if guess < random_integer:\n",
    "        print('Too low!')\n",
    "    elif guess > random_integer:\n",
    "        print('Too high!')\n",
    "    else:\n",
    "        print(f'You got it! {random_integer} was the number!')\n",
    "\n",
    "print('Game over!')"
   ]
  },
  {
   "cell_type": "markdown",
   "metadata": {},
   "source": [
    "&nbsp; b) &nbsp; Make an algorithm to automatically guess the correct number. Can you optimize to get as few guesses as possible? (**)\n",
    "\n",
    "<details>\n",
    "\n",
    "<summary>Hint </summary>\n",
    "\n",
    "&nbsp; b) &nbsp; Half your testing number each time \n",
    "\n",
    "</details>"
   ]
  },
  {
   "cell_type": "code",
   "execution_count": 5,
   "metadata": {},
   "outputs": [
    {
     "name": "stdout",
     "output_type": "stream",
     "text": [
      "Congratulations! You got it after 5 guesses!\n"
     ]
    }
   ],
   "source": [
    "import random\n",
    "import numpy as np\n",
    "random_integer = random.randint(1, 100)\n",
    "number_of_guesses = 1\n",
    "\n",
    "guess = 50\n",
    "optimized_guess = guess // 2\n",
    "while True:\n",
    "    if guess == random_integer:\n",
    "        print(f'Congratulations! You got it after {number_of_guesses} guesses!')\n",
    "        break\n",
    "    elif guess < random_integer:\n",
    "        guess += optimized_guess\n",
    "        optimized_guess = np.ceil(optimized_guess / 2)\n",
    "        number_of_guesses += 1\n",
    "    elif guess > random_integer:\n",
    "        guess -= optimized_guess\n",
    "        optimized_guess = np.ceil(optimized_guess / 2)\n",
    "        number_of_guesses += 1"
   ]
  },
  {
   "cell_type": "markdown",
   "metadata": {},
   "source": [
    "--- \n",
    "## 4. Multiplication game (*)\n",
    "&nbsp; a) &nbsp; Create a multiplication game following this flow chart: \n",
    "\n",
    "<img align=\"left\" src=\"../assets/Multiplication_game.png\" width=\"300\"/>"
   ]
  },
  {
   "cell_type": "code",
   "execution_count": 2,
   "metadata": {},
   "outputs": [
    {
     "name": "stdout",
     "output_type": "stream",
     "text": [
      "Good work!\n",
      "Your score is 1.\n",
      "Good work!\n",
      "Your score is 2.\n",
      "Wrong answer. The correct answer is 24.\n",
      "Thank you for playing!\n",
      "Your final score is 2.\n",
      "Game over!\n"
     ]
    }
   ],
   "source": [
    "# a)\n",
    "import random\n",
    "score = 0\n",
    "\n",
    "while True:\n",
    "    x = random.randint(1, 10)\n",
    "    y = random.randint(1, 10)\n",
    "    correct_answer = x * y\n",
    "\n",
    "    user_answer = int(input(f'What is {x} times {y}? '))\n",
    "    if user_answer == correct_answer:\n",
    "        print('Good work!')\n",
    "        score += 1\n",
    "        print(f'Your score is {score}.')\n",
    "    else:\n",
    "        print(f'Wrong answer. The correct answer is {correct_answer}.')\n",
    "\n",
    "    replay = input('Would you like to play again? (Yes/No): ')\n",
    "    if replay != 'Yes':\n",
    "        print('Thank you for playing!')\n",
    "        print(f'Your final score is {score}.')\n",
    "        break\n",
    "\n",
    "print('Game over!')"
   ]
  },
  {
   "cell_type": "code",
   "execution_count": null,
   "metadata": {},
   "outputs": [
    {
     "name": "stdout",
     "output_type": "stream",
     "text": [
      "\n",
      "Welcome to the Multiplication game!\n",
      "Choose difficulty level:\n",
      "1. Easy (numbers 1-10)\n",
      "2. Medium (numbers 1-20)\n",
      "3. Hard (numbers 1-50)\n",
      "Good work!\n",
      "Your score is 1.\n",
      "Thank you for playing!\n",
      "Your final score is 1.\n",
      "\n",
      "Game over!\n"
     ]
    }
   ],
   "source": [
    "# b)\n",
    "import random\n",
    "\n",
    "print('Welcome to the Multiplication game!')\n",
    "print('Choose difficulty level:')\n",
    "print('1. Easy (numbers 1-10)')\n",
    "print('2. Medium (numbers 1-20)')\n",
    "print('3. Hard (numbers 1-50)')\n",
    "\n",
    "choice = int(input('Enter 1, 2, or 3: '))\n",
    "\n",
    "if choice == 1:\n",
    "    max_number = 10\n",
    "elif choice == 2:\n",
    "    max_number = 20\n",
    "elif choice == 3:\n",
    "    max_number = 50\n",
    "else:\n",
    "    print('Invalid choice. Defaulting to Easy level.')\n",
    "    max_number = 10\n",
    "\n",
    "score = 0\n",
    "while True:\n",
    "    x = random.randint(1, max_number)\n",
    "    y = random.randint(1, max_number)\n",
    "    correct_answer = x * y\n",
    "\n",
    "    user_answer = int(input(f'What is {x} times {y}? '))\n",
    "    if user_answer == correct_answer:\n",
    "        print('Good work!')\n",
    "        score += 1\n",
    "        print(f'Your score is {score}.')\n",
    "    else:\n",
    "        print(f'Wrong answer. The correct answer is {correct_answer}.')\n",
    "\n",
    "    replay = input('Would you like to play again? (Yes/No): ')\n",
    "    if replay != 'Yes':\n",
    "        print('Thank you for playing!')\n",
    "        print(f'Your final score is {score}.')\n",
    "        break\n",
    "\n",
    "print('\\nGame over!')"
   ]
  },
  {
   "cell_type": "markdown",
   "metadata": {},
   "source": [
    "&nbsp; b) &nbsp; Add a menu for choosing difficulty level of the game\n",
    "\n",
    "&nbsp; c) &nbsp; Feel free to extend this program with features of your choice."
   ]
  },
  {
   "cell_type": "markdown",
   "metadata": {},
   "source": [
    "--- \n",
    "## 5. Check convergence (**)\n",
    "Use a while statement to compute the following sums: \n",
    "\n",
    "&nbsp; a) &nbsp; $\\text{sum} = 1 + \\frac{1}{2} + \\frac{1}{4} + \\frac{1}{8} + \\dots + \\frac{1}{2^n}$\n",
    "\n",
    "&nbsp; b) &nbsp; $\\text{sum} = 1 - \\frac{1}{3} + \\frac{1}{5} - \\frac{1}{7} + \\dots + \\frac{(-1)^n}{2n+1}$\n",
    "\n",
    "Try different values on $n$ to see which value it converges to.\n",
    "\n",
    "<details>\n",
    "\n",
    "<summary>Answer </summary>\n",
    "\n",
    "&nbsp; a) &nbsp; $1 + \\frac{1}{2} + \\frac{1}{4} + \\frac{1}{8} + \\dots + \\frac{1}{2^n} \\xrightarrow[n\\rightarrow \\infty]{} 2$ \n",
    "\n",
    "&nbsp; b) &nbsp; $ 1 - \\frac{1}{3} + \\frac{1}{5} - \\frac{1}{7} + \\dots + \\frac{(-1)^n}{2n+1} \\xrightarrow[n\\rightarrow \\infty]{} \\frac{\\pi}{4}$\n",
    "\n",
    "</details>"
   ]
  },
  {
   "cell_type": "markdown",
   "metadata": {},
   "source": [
    "---\n",
    "\n",
    "pr0fez Giang\n",
    "\n",
    "[LinkedIn][linkedIn_pr0fez]\n",
    "\n",
    "[GitHub portfolio][github_portfolio]\n",
    "\n",
    "[linkedIn_pr0fez]: https://www.linkedin.com/in/pr0fezgiang/\n",
    "[github_portfolio]: https://github.com/pr0fez/Portfolio-pr0fez-Giang\n",
    "\n",
    "---"
   ]
  }
 ],
 "metadata": {
  "kernelspec": {
   "display_name": ".venv",
   "language": "python",
   "name": "python3"
  },
  "language_info": {
   "codemirror_mode": {
    "name": "ipython",
    "version": 3
   },
   "file_extension": ".py",
   "mimetype": "text/x-python",
   "name": "python",
   "nbconvert_exporter": "python",
   "pygments_lexer": "ipython3",
   "version": "3.12.3"
  },
  "orig_nbformat": 4
 },
 "nbformat": 4,
 "nbformat_minor": 2
}
