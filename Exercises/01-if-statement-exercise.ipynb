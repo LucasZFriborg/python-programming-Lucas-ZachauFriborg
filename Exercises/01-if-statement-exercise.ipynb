{
 "cells": [
  {
   "cell_type": "markdown",
   "metadata": {},
   "source": [
    "\n",
    "<a href=\"https://colab.research.google.com/github/pr0fez/AI24-Programmering/blob/master/Exercises/01-if-statement-exercise.ipynb\" target=\"_parent\"><img align=\"left\" src=\"https://colab.research.google.com/assets/colab-badge.svg\" alt=\"Open In Colab\"/></a> &nbsp; to see hints and answers."
   ]
  },
  {
   "cell_type": "markdown",
   "metadata": {},
   "source": [
    "# if statements exercises\n",
    "\n",
    "---\n",
    "These are introductory exercises in Python with focus in **if** statement.\n",
    "\n",
    "<p class = \"alert alert-info\" role=\"alert\"><b>Remember</b> to use <b>descriptive variable names</b> in order to get readable code </p>\n",
    "\n",
    "<p class = \"alert alert-info\" role=\"alert\"><b>Remember</b> to format your answers in a neat way using <b>f-strings</b>\n",
    "\n",
    "<p class = \"alert alert-info\" role=\"alert\"><b>Remember</b> to format your input questions in a pedagogical way to guide the user\n",
    "\n",
    "The number of stars (\\*), (\\*\\*), (\\*\\*\\*) denotes the difficulty level of the task\n",
    "\n",
    "---"
   ]
  },
  {
   "cell_type": "markdown",
   "metadata": {},
   "source": [
    "## 1. Check sign (*)\n",
    "\n",
    "Ask the user to input a number and check if this number is **positive**, **negative** or **zero** and print it."
   ]
  },
  {
   "cell_type": "code",
   "execution_count": 1,
   "metadata": {},
   "outputs": [
    {
     "name": "stdout",
     "output_type": "stream",
     "text": [
      "The number is positive.\n"
     ]
    }
   ],
   "source": [
    "number = float(input('Enter a number: '))\n",
    "\n",
    "if number > 0:\n",
    "    print('The number is positive.')\n",
    "elif number < 0:\n",
    "    print('The number is negative.')\n",
    "else:\n",
    "    print('The number is zero.')"
   ]
  },
  {
   "cell_type": "markdown",
   "metadata": {},
   "source": [
    "---\n",
    "## 2. Smallest (*)\n",
    "Ask the user to input two numbers and check which one is the smallest and print it out.   "
   ]
  },
  {
   "cell_type": "code",
   "execution_count": 4,
   "metadata": {},
   "outputs": [
    {
     "name": "stdout",
     "output_type": "stream",
     "text": [
      "First number: 5.0\n",
      "Second number: 3.0\n",
      "The first number is greater than the second number.\n"
     ]
    }
   ],
   "source": [
    "number1 = float(input('Enter a number: '))\n",
    "number2 = float(input('Enter another number: '))\n",
    "\n",
    "print(f'First number: {number1}')\n",
    "print(f'Second number: {number2}')\n",
    "\n",
    "if number1 > number2:\n",
    "    print('The first number is greater than the second number.')\n",
    "elif number1 < number2:\n",
    "    print('The second number is greater than the first number.')\n",
    "else:\n",
    "    print('Both numbers are equal.')"
   ]
  },
  {
   "cell_type": "markdown",
   "metadata": {},
   "source": [
    "---\n",
    "## 3. Right angle (*)\n",
    "\n",
    "Ask the user to input three angles and check if the triangle has a right angle. Your code should make sure that all three angles are valid and make up a triangle.\n",
    "\n",
    "<img align=\"left\" src=\"../assets/triangle_angles.png\" width=\"200\"/>"
   ]
  },
  {
   "cell_type": "code",
   "execution_count": 20,
   "metadata": {},
   "outputs": [
    {
     "name": "stdout",
     "output_type": "stream",
     "text": [
      "The angles make a triangle!\n",
      "The triangle has a right angle!\n"
     ]
    }
   ],
   "source": [
    "triangle = 180\n",
    "\n",
    "angle1 = float(input('Enter the first angle of the triangle: '))\n",
    "angle2 = float(input('Enter the second angle of the triangle: '))\n",
    "angle3 = float(input('Enter the third angle of the triangle: '))\n",
    "\n",
    "if angle1 <= 0 or angle2 <= 0 or angle3 <= 0:\n",
    "    print(\"Angles must be greater than zero degrees!\")\n",
    "elif angle1 + angle2 + angle3 != triangle:\n",
    "    print(\"The angles do not make a triangle! Sum of angles must be 180 degrees.\")\n",
    "else:\n",
    "    print(\"The angles make a triangle!\")\n",
    "    if 90 in (angle1, angle2, angle3):\n",
    "        print(\"The triangle has a right angle!\")\n",
    "    else:\n",
    "        print(\"The triangle do not have a right angle.\")"
   ]
  },
  {
   "cell_type": "markdown",
   "metadata": {},
   "source": [
    "----\n",
    "## 4. Medicine (*)\n",
    "\n",
    "The information in the following table is stated in a medicine package. Also it is stated that for children weight is more important than age.\n",
    "\n",
    "<table align=\"left\">\n",
    "<thead>\n",
    "    <tr>\n",
    "        <th></th>\n",
    "        <th>Age</th>\n",
    "        <th>Number of pills</th>\n",
    "    </tr>\n",
    "</thead>\n",
    "\n",
    "<tbody>\n",
    "  <tr>\n",
    "    <td>Adults & adolescent <br>over 40 kg</td>\n",
    "    <td>over 12 years</td>\n",
    "    <td>1-2</td>\n",
    "  </tr>\n",
    "\n",
    "  <tr>\n",
    "    <td>Children 26-40 kg</td>\n",
    "    <td>7-12 years</td>\n",
    "    <td>1/2-1</td>\n",
    "  </tr>\n",
    "\n",
    "  <tr>\n",
    "    <td>Children 15-25 kg</td>\n",
    "    <td>3-7 years</td>\n",
    "    <td>1/2</td>\n",
    "  </tr>\n",
    "</tbody>\n",
    "</table>"
   ]
  },
  {
   "cell_type": "markdown",
   "metadata": {},
   "source": [
    "Let the user input an **age** and a **weight**, the program should recommend the number of pills for the user."
   ]
  },
  {
   "cell_type": "code",
   "execution_count": 21,
   "metadata": {},
   "outputs": [
    {
     "name": "stdout",
     "output_type": "stream",
     "text": [
      "1-2 pills is recommended.\n"
     ]
    }
   ],
   "source": [
    "age = int(input(\"Enter your age: \"))\n",
    "weight = float(input(\"Enter your weight in kg: \"))\n",
    "\n",
    "if weight > 40 and age > 12:\n",
    "    print(\"1-2 pills is recommended.\")\n",
    "elif 26 <= weight <= 40 and 7 <= age <= 12:\n",
    "    print(\"1/2-1 pill is recommended.\")\n",
    "elif 15 <= weight <= 25 and 3 <= age <= 7:\n",
    "    print(\"1/2 pill is recommended.\")\n",
    "elif age < 3 or weight < 15:\n",
    "    print(\"Consult a doctor for proper dosage.\")\n",
    "else:\n",
    "    print(\"Consult a doctor for proper dosage.\")"
   ]
  },
  {
   "cell_type": "markdown",
   "metadata": {},
   "source": [
    "---\n",
    "## 5. Divisible (*)\n",
    "Let the user input a number. Check if the number is\n",
    "<ol type=\"a\">\n",
    "  <li>even or odd</li>\n",
    "  <li>is divisible by 5</li>\n",
    "  <li>is divisble by 5 and odd</li>\n",
    "</ol> "
   ]
  },
  {
   "cell_type": "code",
   "execution_count": 26,
   "metadata": {},
   "outputs": [
    {
     "name": "stdout",
     "output_type": "stream",
     "text": [
      "The number is odd.\n",
      "The number is divisible by 5.\n",
      "The number is odd and divisible by 5.\n"
     ]
    }
   ],
   "source": [
    "number = float(input('Enter a number: '))\n",
    "\n",
    "if number % 2 == 0:\n",
    "    print('The number is even.')\n",
    "else:\n",
    "    print('The number is odd.')\n",
    "\n",
    "if number % 5 == 0:\n",
    "    print('The number is divisible by 5.')\n",
    "\n",
    "if number % 5 == 0 and number % 2 != 0:\n",
    "    print('The number is odd and divisible by 5.')"
   ]
  },
  {
   "cell_type": "markdown",
   "metadata": {},
   "source": [
    "---\n",
    "## 6. Luggage size (*)\n",
    "\n",
    "The maximum allowed luggage size for boarding an airplane is: \n",
    "- weight: 8kg\n",
    "- dimensions: 55x40x23cm (length x width x height) \n",
    "\n",
    "Let the user input weight, length, width and height of the luggage. The program should check if the luggage is allowed or not."
   ]
  },
  {
   "cell_type": "code",
   "execution_count": 32,
   "metadata": {},
   "outputs": [
    {
     "name": "stdout",
     "output_type": "stream",
     "text": [
      "Weight: 8.0 kg\n",
      "Dimensions: 55.0 x 40.0 x 23.0cm\n",
      "The luggage is allowed.\n"
     ]
    }
   ],
   "source": [
    "max_weight = 8\n",
    "max_lenght = 55\n",
    "max_width = 40\n",
    "max_height = 23\n",
    "\n",
    "weight = float(input('Enter the weight of the luggage (kg): '))\n",
    "length = float(input('Enter the length of the luggage (cm): '))\n",
    "width = float(input('Enter the width of the luggage (cm): '))\n",
    "height = float(input('Enter the height of the luggage (cm): '))\n",
    "print(f'Weight: {weight} kg')\n",
    "print(f'Dimensions: {length} x {width} x {height}cm')\n",
    "\n",
    "\n",
    "if weight <= max_weight and length <= max_lenght and width <= max_width and height <= max_height:\n",
    "    print('The luggage is allowed.')\n",
    "elif weight > max_weight:\n",
    "    print('The luggage is too heavy. Maximum weight is 8 kg.')\n",
    "elif length > max_lenght or width > max_width or height > max_height:\n",
    "    print('The luggage is too large. Maximum dimensions are 55x40x23 cm.')"
   ]
  },
  {
   "cell_type": "markdown",
   "metadata": {},
   "source": [
    "---\n",
    "\n",
    "pr0fez Giang\n",
    "\n",
    "[LinkedIn][linkedIn_pr0fez]\n",
    "\n",
    "[GitHub portfolio][github_portfolio]\n",
    "\n",
    "[linkedIn_pr0fez]: https://www.linkedin.com/in/pr0fezgiang/\n",
    "[github_portfolio]: https://github.com/pr0fez/Portfolio-pr0fez-Giang\n",
    "\n",
    "---"
   ]
  }
 ],
 "metadata": {
  "kernelspec": {
   "display_name": ".venv",
   "language": "python",
   "name": "python3"
  },
  "language_info": {
   "codemirror_mode": {
    "name": "ipython",
    "version": 3
   },
   "file_extension": ".py",
   "mimetype": "text/x-python",
   "name": "python",
   "nbconvert_exporter": "python",
   "pygments_lexer": "ipython3",
   "version": "3.12.3"
  },
  "orig_nbformat": 4
 },
 "nbformat": 4,
 "nbformat_minor": 2
}
